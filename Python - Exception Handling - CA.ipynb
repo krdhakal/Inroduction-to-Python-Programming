{
 "cells": [
  {
   "cell_type": "code",
   "execution_count": 3,
   "metadata": {},
   "outputs": [
    {
     "ename": "SyntaxError",
     "evalue": "invalid syntax (<ipython-input-3-13b92fd3ba24>, line 6)",
     "output_type": "error",
     "traceback": [
      "\u001b[1;36m  File \u001b[1;32m\"<ipython-input-3-13b92fd3ba24>\"\u001b[1;36m, line \u001b[1;32m6\u001b[0m\n\u001b[1;33m    if x==20\u001b[0m\n\u001b[1;37m            ^\u001b[0m\n\u001b[1;31mSyntaxError\u001b[0m\u001b[1;31m:\u001b[0m invalid syntax\n"
     ]
    }
   ],
   "source": [
    "#Exception handling \n",
    "    #Syntax \n",
    "    #Runtime error \n",
    "    \n",
    "x = 20\n",
    "if x==20\n",
    "    print('The value of x is', x)"
   ]
  },
  {
   "cell_type": "code",
   "execution_count": null,
   "metadata": {},
   "outputs": [],
   "source": []
  },
  {
   "cell_type": "code",
   "execution_count": 4,
   "metadata": {},
   "outputs": [
    {
     "ename": "ZeroDivisionError",
     "evalue": "division by zero",
     "output_type": "error",
     "traceback": [
      "\u001b[1;31m---------------------------------------------------------------------------\u001b[0m",
      "\u001b[1;31mZeroDivisionError\u001b[0m                         Traceback (most recent call last)",
      "\u001b[1;32m<ipython-input-4-6c5eba9253a6>\u001b[0m in \u001b[0;36m<module>\u001b[1;34m\u001b[0m\n\u001b[0;32m      1\u001b[0m \u001b[1;31m#Runtime error\u001b[0m\u001b[1;33m\u001b[0m\u001b[1;33m\u001b[0m\u001b[1;33m\u001b[0m\u001b[0m\n\u001b[1;32m----> 2\u001b[1;33m \u001b[0mprint\u001b[0m\u001b[1;33m(\u001b[0m\u001b[1;36m20\u001b[0m\u001b[1;33m/\u001b[0m\u001b[1;36m0\u001b[0m\u001b[1;33m)\u001b[0m\u001b[1;33m\u001b[0m\u001b[1;33m\u001b[0m\u001b[0m\n\u001b[0m",
      "\u001b[1;31mZeroDivisionError\u001b[0m: division by zero"
     ]
    }
   ],
   "source": [
    "#Runtime error\n",
    "print(20/0)"
   ]
  },
  {
   "cell_type": "code",
   "execution_count": 5,
   "metadata": {},
   "outputs": [
    {
     "ename": "TypeError",
     "evalue": "unsupported operand type(s) for /: 'int' and 'str'",
     "output_type": "error",
     "traceback": [
      "\u001b[1;31m---------------------------------------------------------------------------\u001b[0m",
      "\u001b[1;31mTypeError\u001b[0m                                 Traceback (most recent call last)",
      "\u001b[1;32m<ipython-input-5-71e2f6824830>\u001b[0m in \u001b[0;36m<module>\u001b[1;34m\u001b[0m\n\u001b[1;32m----> 1\u001b[1;33m \u001b[0mprint\u001b[0m\u001b[1;33m(\u001b[0m\u001b[1;36m10\u001b[0m\u001b[1;33m/\u001b[0m\u001b[1;34m'a'\u001b[0m\u001b[1;33m)\u001b[0m\u001b[1;33m\u001b[0m\u001b[1;33m\u001b[0m\u001b[0m\n\u001b[0m",
      "\u001b[1;31mTypeError\u001b[0m: unsupported operand type(s) for /: 'int' and 'str'"
     ]
    }
   ],
   "source": [
    "print(10/'a')"
   ]
  },
  {
   "cell_type": "code",
   "execution_count": 6,
   "metadata": {},
   "outputs": [
    {
     "name": "stdout",
     "output_type": "stream",
     "text": [
      "Enter some numberb\n"
     ]
    },
    {
     "ename": "ValueError",
     "evalue": "invalid literal for int() with base 10: 'b'",
     "output_type": "error",
     "traceback": [
      "\u001b[1;31m---------------------------------------------------------------------------\u001b[0m",
      "\u001b[1;31mValueError\u001b[0m                                Traceback (most recent call last)",
      "\u001b[1;32m<ipython-input-6-6d2437b085ea>\u001b[0m in \u001b[0;36m<module>\u001b[1;34m\u001b[0m\n\u001b[1;32m----> 1\u001b[1;33m \u001b[0mx\u001b[0m \u001b[1;33m=\u001b[0m \u001b[0mint\u001b[0m\u001b[1;33m(\u001b[0m\u001b[0minput\u001b[0m\u001b[1;33m(\u001b[0m\u001b[1;34m'Enter some number'\u001b[0m\u001b[1;33m)\u001b[0m\u001b[1;33m)\u001b[0m\u001b[1;33m\u001b[0m\u001b[1;33m\u001b[0m\u001b[0m\n\u001b[0m\u001b[0;32m      2\u001b[0m \u001b[0mprint\u001b[0m\u001b[1;33m(\u001b[0m\u001b[0mx\u001b[0m\u001b[1;33m)\u001b[0m\u001b[1;33m\u001b[0m\u001b[1;33m\u001b[0m\u001b[0m\n",
      "\u001b[1;31mValueError\u001b[0m: invalid literal for int() with base 10: 'b'"
     ]
    }
   ],
   "source": [
    "x = int(input('Enter some number'))\n",
    "print(x)"
   ]
  },
  {
   "cell_type": "code",
   "execution_count": 7,
   "metadata": {},
   "outputs": [],
   "source": [
    "#What is an exception?\n",
    "#An unwanted and unexpected event which is going to disturb our regular flow of the program"
   ]
  },
  {
   "cell_type": "code",
   "execution_count": 8,
   "metadata": {},
   "outputs": [],
   "source": [
    "#What is the meaning of exception handling? \n",
    "#Defining alternative way to continue rest of the program normally"
   ]
  },
  {
   "cell_type": "code",
   "execution_count": null,
   "metadata": {},
   "outputs": [],
   "source": [
    "try:\n",
    "    read data from the Nagpur server\n",
    "except:\n",
    "    read data from GGN"
   ]
  },
  {
   "cell_type": "code",
   "execution_count": null,
   "metadata": {},
   "outputs": [],
   "source": [
    "#If exception handling is not there then Python terminate the program abnormally , print exeception error message "
   ]
  },
  {
   "cell_type": "code",
   "execution_count": 9,
   "metadata": {},
   "outputs": [
    {
     "name": "stdout",
     "output_type": "stream",
     "text": [
      "Hello\n"
     ]
    },
    {
     "ename": "ZeroDivisionError",
     "evalue": "division by zero",
     "output_type": "error",
     "traceback": [
      "\u001b[1;31m---------------------------------------------------------------------------\u001b[0m",
      "\u001b[1;31mZeroDivisionError\u001b[0m                         Traceback (most recent call last)",
      "\u001b[1;32m<ipython-input-9-a35d04744205>\u001b[0m in \u001b[0;36m<module>\u001b[1;34m\u001b[0m\n\u001b[0;32m      1\u001b[0m \u001b[0mprint\u001b[0m\u001b[1;33m(\u001b[0m\u001b[1;34m'Hello'\u001b[0m\u001b[1;33m)\u001b[0m\u001b[1;33m\u001b[0m\u001b[1;33m\u001b[0m\u001b[0m\n\u001b[1;32m----> 2\u001b[1;33m \u001b[0mprint\u001b[0m\u001b[1;33m(\u001b[0m\u001b[1;36m20\u001b[0m\u001b[1;33m/\u001b[0m\u001b[1;36m0\u001b[0m\u001b[1;33m)\u001b[0m\u001b[1;33m\u001b[0m\u001b[1;33m\u001b[0m\u001b[0m\n\u001b[0m\u001b[0;32m      3\u001b[0m \u001b[0mprint\u001b[0m\u001b[1;33m(\u001b[0m\u001b[1;34m'Hi'\u001b[0m\u001b[1;33m)\u001b[0m\u001b[1;33m\u001b[0m\u001b[1;33m\u001b[0m\u001b[0m\n",
      "\u001b[1;31mZeroDivisionError\u001b[0m: division by zero"
     ]
    }
   ],
   "source": [
    "print('Hello')\n",
    "print(20/0)\n",
    "print('Hi')"
   ]
  },
  {
   "cell_type": "code",
   "execution_count": 11,
   "metadata": {},
   "outputs": [
    {
     "name": "stdout",
     "output_type": "stream",
     "text": [
      "Hello\n",
      "6.666666666666667\n",
      "Hi\n"
     ]
    }
   ],
   "source": [
    "print('Hello')\n",
    "try:\n",
    "    print(20/3)\n",
    "except:\n",
    "    print('Error occured')\n",
    "print('Hi')"
   ]
  },
  {
   "cell_type": "markdown",
   "metadata": {},
   "source": [
    "# Python Exception Hierarchy"
   ]
  },
  {
   "cell_type": "markdown",
   "metadata": {},
   "source": [
    "![](ExceptionHandling.png)"
   ]
  },
  {
   "cell_type": "code",
   "execution_count": null,
   "metadata": {},
   "outputs": [],
   "source": [
    "try: \n",
    "    statement1\n",
    "    statement2\n",
    "    statement3\n",
    "except:\n",
    "    statement4\n",
    "statement5"
   ]
  },
  {
   "cell_type": "code",
   "execution_count": 24,
   "metadata": {},
   "outputs": [],
   "source": [
    "#Case1 - Statement1, statement2, Statement3, Statement5 "
   ]
  },
  {
   "cell_type": "code",
   "execution_count": 25,
   "metadata": {},
   "outputs": [],
   "source": [
    "#Case2 - Statement1, Statement4, Statement5"
   ]
  },
  {
   "cell_type": "code",
   "execution_count": null,
   "metadata": {},
   "outputs": [],
   "source": [
    "#Case3 - Statement1 , Statement2, Statement4 (something wrong happened in statement4 as well)\n",
    "#Abnormal termination "
   ]
  },
  {
   "cell_type": "markdown",
   "metadata": {},
   "source": [
    "![](multipleTry.png)"
   ]
  },
  {
   "cell_type": "code",
   "execution_count": 27,
   "metadata": {},
   "outputs": [
    {
     "name": "stdout",
     "output_type": "stream",
     "text": [
      "Outer Try Block\n",
      "Inner Try Block\n",
      "Error occured\n",
      "Inner Except Block\n",
      "Statement2\n",
      "Statement 3\n"
     ]
    }
   ],
   "source": [
    "try:\n",
    "    print('Outer Try Block')\n",
    "    try:\n",
    "        print('Inner Try Block')\n",
    "        print(20/0)\n",
    "    except:\n",
    "        print('Error occured')\n",
    "        print('Inner Except Block')\n",
    "    print('Statement2')\n",
    "except:\n",
    "    print('Outer Except block')\n",
    "print('Statement 3')"
   ]
  },
  {
   "cell_type": "code",
   "execution_count": 29,
   "metadata": {},
   "outputs": [
    {
     "name": "stdout",
     "output_type": "stream",
     "text": [
      "statement1\n",
      "5.0\n",
      "Statement3\n"
     ]
    }
   ],
   "source": [
    "try: \n",
    "    print('statement1')\n",
    "    print(10/2)\n",
    "except:\n",
    "    print('Statement2')\n",
    "finally:\n",
    "    print('Statement3')"
   ]
  },
  {
   "cell_type": "code",
   "execution_count": null,
   "metadata": {},
   "outputs": [],
   "source": [
    "try:\n",
    "    statement1\n",
    "    statement2\n",
    "    statement3\n",
    "    try:\n",
    "        statement4\n",
    "        statement5\n",
    "        statement6\n",
    "    except:\n",
    "        statement7\n",
    "    finally:\n",
    "        statement8\n",
    "    statement9\n",
    "    print()\n",
    "except:\n",
    "    statement10\n",
    "finally:\n",
    "    statement11\n",
    "statement12"
   ]
  },
  {
   "cell_type": "code",
   "execution_count": null,
   "metadata": {},
   "outputs": [],
   "source": [
    "#Case1 - When there will not be any exception what all statements will execute?\n",
    "#statement 1,2,3,4,5,6,8,9,11,12, Normal "
   ]
  },
  {
   "cell_type": "code",
   "execution_count": null,
   "metadata": {},
   "outputs": [],
   "source": [
    "#Case2 - If an exception raised at statement2 and corresponding except block matched\n",
    "#Statement 1,10,11,12, Normal"
   ]
  },
  {
   "cell_type": "code",
   "execution_count": 30,
   "metadata": {},
   "outputs": [],
   "source": [
    "#Case3 - If an exception raised at statement2 and corresponding except block not matched\n",
    "#statement1,11 and abnormal termination "
   ]
  },
  {
   "cell_type": "code",
   "execution_count": 32,
   "metadata": {},
   "outputs": [],
   "source": [
    "#Case4 - If an exception raised at statement5 and corresponding except block matched\n",
    "#1,2,3,4,7,8,9,11,12 - Normal"
   ]
  },
  {
   "cell_type": "code",
   "execution_count": 33,
   "metadata": {},
   "outputs": [],
   "source": [
    "#Case5 - If an exception raised at statement5 and corresponding except block not matched but outer except block matched\n",
    "#statement 1,2,3,4,8,10,11,12 and normal termination "
   ]
  },
  {
   "cell_type": "code",
   "execution_count": null,
   "metadata": {},
   "outputs": [],
   "source": [
    "#Case6 - If an exception raised at statement5 and correponding inner and outer block not matched\n",
    "#Statement 1,2,3,4,8,11 - Abnormal termination "
   ]
  },
  {
   "cell_type": "code",
   "execution_count": 35,
   "metadata": {},
   "outputs": [],
   "source": [
    "#Case7 - If an exception raised at statement7 and corresponding except block matched\n",
    "#Statement 1,2,3,(4,5,6),8,10,11,12 and normal termination "
   ]
  },
  {
   "cell_type": "code",
   "execution_count": 37,
   "metadata": {},
   "outputs": [],
   "source": [
    "#Case8 - If an exception at statement7 and corresponding except block not matched\n",
    "#Statement 1,2,3,8,11 and abnormal termination"
   ]
  },
  {
   "cell_type": "code",
   "execution_count": null,
   "metadata": {},
   "outputs": [],
   "source": [
    "#Case9 - If an exception at statement8 and correponding except block matched\n",
    "#Statement 1,2,3,4(MMT),5(MMT),6(MMT),7(MMT),8,10,11,12 and normal termination "
   ]
  },
  {
   "cell_type": "code",
   "execution_count": 39,
   "metadata": {},
   "outputs": [],
   "source": [
    "#Case10 - If an exception at statement8 and correponding except block not matched\n",
    "#Statement 1,2,3,4(MMT),5(MMT),6(MMT),7(MMT),8,11 and abnormal termination "
   ]
  },
  {
   "cell_type": "code",
   "execution_count": 40,
   "metadata": {},
   "outputs": [],
   "source": [
    "#Case11 - If an exception at statement9 and corresponding except block matched\n",
    "#Statement 1,2,3,4(mmt),5(mmt),6(mmt),7(mmt), 8, 10,11,12 and normal termination"
   ]
  },
  {
   "cell_type": "code",
   "execution_count": 43,
   "metadata": {},
   "outputs": [],
   "source": [
    "#Case12 - If an exception at statement9 and corresponding except block not matched\n",
    "#Statement 1,2,3,4(mmt),5(mmt),6(mmt),7(mmt), 8, 10,11 and abnormal termination"
   ]
  },
  {
   "cell_type": "code",
   "execution_count": 44,
   "metadata": {},
   "outputs": [],
   "source": [
    "#Case13 - If an exception raised in statement10\n",
    "#Statement11 and abnormal termination "
   ]
  },
  {
   "cell_type": "code",
   "execution_count": 45,
   "metadata": {},
   "outputs": [],
   "source": [
    "#Case14 - If an exception raised in statement11 or statement12\n",
    "#Abnormal termination "
   ]
  },
  {
   "cell_type": "code",
   "execution_count": null,
   "metadata": {},
   "outputs": [],
   "source": [
    "#else\n",
    "try:\n",
    "    risky code \n",
    "except: \n",
    "    Will executed if exception will occur in try\n",
    "else:\n",
    "    Will executed if no exception inside the try\n",
    "finally: \n",
    "    always run"
   ]
  },
  {
   "cell_type": "code",
   "execution_count": null,
   "metadata": {},
   "outputs": [],
   "source": [
    "try-except-else-finally"
   ]
  },
  {
   "cell_type": "code",
   "execution_count": 2,
   "metadata": {},
   "outputs": [
    {
     "name": "stdout",
     "output_type": "stream",
     "text": [
      "try\n",
      "5.0\n",
      "Calculation completed successfully\n",
      "The job ends\n"
     ]
    }
   ],
   "source": [
    "try:\n",
    "    print('try')\n",
    "    print(10/2)\n",
    "except:\n",
    "    print('Cannot divide by 0')\n",
    "else:\n",
    "    print('Calculation completed successfully')\n",
    "finally:\n",
    "    print('The job ends')"
   ]
  },
  {
   "cell_type": "code",
   "execution_count": 5,
   "metadata": {},
   "outputs": [
    {
     "name": "stdout",
     "output_type": "stream",
     "text": [
      "Try\n",
      "finally\n"
     ]
    }
   ],
   "source": [
    "try:\n",
    "    print('Try')\n",
    "finally:\n",
    "    print('finally')"
   ]
  },
  {
   "cell_type": "code",
   "execution_count": 6,
   "metadata": {},
   "outputs": [
    {
     "name": "stdout",
     "output_type": "stream",
     "text": [
      "try\n",
      "Finally\n"
     ]
    }
   ],
   "source": [
    "#Case 1\n",
    "try:\n",
    "    print('try')\n",
    "except:\n",
    "    print('Except')\n",
    "finally:\n",
    "    print('Finally')"
   ]
  },
  {
   "cell_type": "code",
   "execution_count": 7,
   "metadata": {},
   "outputs": [
    {
     "ename": "SyntaxError",
     "evalue": "invalid syntax (<ipython-input-7-68e2f05a7325>, line 2)",
     "output_type": "error",
     "traceback": [
      "\u001b[1;36m  File \u001b[1;32m\"<ipython-input-7-68e2f05a7325>\"\u001b[1;36m, line \u001b[1;32m2\u001b[0m\n\u001b[1;33m    except:\u001b[0m\n\u001b[1;37m         ^\u001b[0m\n\u001b[1;31mSyntaxError\u001b[0m\u001b[1;31m:\u001b[0m invalid syntax\n"
     ]
    }
   ],
   "source": [
    "#Case 2\n",
    "#Without try only except block is invalid\n",
    "except:\n",
    "    print('except')"
   ]
  },
  {
   "cell_type": "code",
   "execution_count": 8,
   "metadata": {},
   "outputs": [
    {
     "ename": "SyntaxError",
     "evalue": "invalid syntax (<ipython-input-8-11c2cb791327>, line 2)",
     "output_type": "error",
     "traceback": [
      "\u001b[1;36m  File \u001b[1;32m\"<ipython-input-8-11c2cb791327>\"\u001b[1;36m, line \u001b[1;32m2\u001b[0m\n\u001b[1;33m    else:\u001b[0m\n\u001b[1;37m       ^\u001b[0m\n\u001b[1;31mSyntaxError\u001b[0m\u001b[1;31m:\u001b[0m invalid syntax\n"
     ]
    }
   ],
   "source": [
    "#Case 3\n",
    "else:\n",
    "    print('Hello')"
   ]
  },
  {
   "cell_type": "code",
   "execution_count": 9,
   "metadata": {},
   "outputs": [
    {
     "ename": "SyntaxError",
     "evalue": "invalid syntax (<ipython-input-9-3f8f2138a5f9>, line 2)",
     "output_type": "error",
     "traceback": [
      "\u001b[1;36m  File \u001b[1;32m\"<ipython-input-9-3f8f2138a5f9>\"\u001b[1;36m, line \u001b[1;32m2\u001b[0m\n\u001b[1;33m    finally:\u001b[0m\n\u001b[1;37m          ^\u001b[0m\n\u001b[1;31mSyntaxError\u001b[0m\u001b[1;31m:\u001b[0m invalid syntax\n"
     ]
    }
   ],
   "source": [
    "#Case 4\n",
    "finally:\n",
    "    print('Finally')"
   ]
  },
  {
   "cell_type": "code",
   "execution_count": 10,
   "metadata": {},
   "outputs": [
    {
     "name": "stdout",
     "output_type": "stream",
     "text": [
      "Hi\n"
     ]
    }
   ],
   "source": [
    "#Case 5\n",
    "try:\n",
    "    print('Hi')\n",
    "except:\n",
    "    print('Hello')"
   ]
  },
  {
   "cell_type": "code",
   "execution_count": 13,
   "metadata": {},
   "outputs": [
    {
     "name": "stdout",
     "output_type": "stream",
     "text": [
      "Hello\n",
      "Hi\n"
     ]
    },
    {
     "ename": "ZeroDivisionError",
     "evalue": "division by zero",
     "output_type": "error",
     "traceback": [
      "\u001b[1;31m---------------------------------------------------------------------------\u001b[0m",
      "\u001b[1;31mZeroDivisionError\u001b[0m                         Traceback (most recent call last)",
      "\u001b[1;32m<ipython-input-13-5327d8c96855>\u001b[0m in \u001b[0;36m<module>\u001b[1;34m\u001b[0m\n\u001b[0;32m      2\u001b[0m \u001b[1;32mtry\u001b[0m\u001b[1;33m:\u001b[0m\u001b[1;33m\u001b[0m\u001b[1;33m\u001b[0m\u001b[0m\n\u001b[0;32m      3\u001b[0m     \u001b[0mprint\u001b[0m\u001b[1;33m(\u001b[0m\u001b[1;34m'Hello'\u001b[0m\u001b[1;33m)\u001b[0m\u001b[1;33m\u001b[0m\u001b[1;33m\u001b[0m\u001b[0m\n\u001b[1;32m----> 4\u001b[1;33m     \u001b[0mprint\u001b[0m\u001b[1;33m(\u001b[0m\u001b[1;36m10\u001b[0m\u001b[1;33m/\u001b[0m\u001b[1;36m0\u001b[0m\u001b[1;33m)\u001b[0m\u001b[1;33m\u001b[0m\u001b[1;33m\u001b[0m\u001b[0m\n\u001b[0m\u001b[0;32m      5\u001b[0m \u001b[1;32mfinally\u001b[0m\u001b[1;33m:\u001b[0m\u001b[1;33m\u001b[0m\u001b[1;33m\u001b[0m\u001b[0m\n\u001b[0;32m      6\u001b[0m     \u001b[0mprint\u001b[0m\u001b[1;33m(\u001b[0m\u001b[1;34m'Hi'\u001b[0m\u001b[1;33m)\u001b[0m\u001b[1;33m\u001b[0m\u001b[1;33m\u001b[0m\u001b[0m\n",
      "\u001b[1;31mZeroDivisionError\u001b[0m: division by zero"
     ]
    }
   ],
   "source": [
    "#case 6\n",
    "try:\n",
    "    print('Hello')\n",
    "    print(10/0)\n",
    "finally:\n",
    "    print('Hi')\n",
    "#Try should have atleast except or finally block"
   ]
  },
  {
   "cell_type": "code",
   "execution_count": 14,
   "metadata": {},
   "outputs": [
    {
     "name": "stdout",
     "output_type": "stream",
     "text": [
      "try\n",
      "else\n"
     ]
    }
   ],
   "source": [
    "#Case 7\n",
    "try:\n",
    "    print('try')\n",
    "except:\n",
    "    print('except')\n",
    "else:\n",
    "    print('else')"
   ]
  },
  {
   "cell_type": "code",
   "execution_count": 15,
   "metadata": {},
   "outputs": [
    {
     "ename": "SyntaxError",
     "evalue": "invalid syntax (<ipython-input-15-b38e210dccd2>, line 4)",
     "output_type": "error",
     "traceback": [
      "\u001b[1;36m  File \u001b[1;32m\"<ipython-input-15-b38e210dccd2>\"\u001b[1;36m, line \u001b[1;32m4\u001b[0m\n\u001b[1;33m    else:\u001b[0m\n\u001b[1;37m       ^\u001b[0m\n\u001b[1;31mSyntaxError\u001b[0m\u001b[1;31m:\u001b[0m invalid syntax\n"
     ]
    }
   ],
   "source": [
    "#Case 8\n",
    "try:\n",
    "    print('try')\n",
    "else:\n",
    "    print('else')"
   ]
  },
  {
   "cell_type": "code",
   "execution_count": 16,
   "metadata": {},
   "outputs": [
    {
     "ename": "SyntaxError",
     "evalue": "invalid syntax (<ipython-input-16-2b6b1bef7811>, line 4)",
     "output_type": "error",
     "traceback": [
      "\u001b[1;36m  File \u001b[1;32m\"<ipython-input-16-2b6b1bef7811>\"\u001b[1;36m, line \u001b[1;32m4\u001b[0m\n\u001b[1;33m    else:\u001b[0m\n\u001b[1;37m       ^\u001b[0m\n\u001b[1;31mSyntaxError\u001b[0m\u001b[1;31m:\u001b[0m invalid syntax\n"
     ]
    }
   ],
   "source": [
    "#Case 9 \n",
    "try:\n",
    "    print('try')\n",
    "else:\n",
    "    print('else')\n",
    "finally:\n",
    "    print('finally')"
   ]
  },
  {
   "cell_type": "code",
   "execution_count": 29,
   "metadata": {},
   "outputs": [
    {
     "name": "stdout",
     "output_type": "stream",
     "text": [
      "try\n",
      "Except2\n"
     ]
    }
   ],
   "source": [
    "#Case 10\n",
    "try:\n",
    "    print('try')\n",
    "    print(10/'a')\n",
    "except ZeroDivisionError:\n",
    "    print('Except1')\n",
    "except TypeError:\n",
    "    print('Except2')"
   ]
  },
  {
   "cell_type": "code",
   "execution_count": 21,
   "metadata": {},
   "outputs": [
    {
     "ename": "SyntaxError",
     "evalue": "invalid syntax (<ipython-input-21-ad728de084b3>, line 6)",
     "output_type": "error",
     "traceback": [
      "\u001b[1;36m  File \u001b[1;32m\"<ipython-input-21-ad728de084b3>\"\u001b[1;36m, line \u001b[1;32m6\u001b[0m\n\u001b[1;33m    elif:\u001b[0m\n\u001b[1;37m       ^\u001b[0m\n\u001b[1;31mSyntaxError\u001b[0m\u001b[1;31m:\u001b[0m invalid syntax\n"
     ]
    }
   ],
   "source": [
    "#Case 11\n",
    "try:\n",
    "    print('try')\n",
    "except ZeroDivisionError:\n",
    "    print('Except1')\n",
    "elif:\n",
    "    print('Else1')\n",
    "else:\n",
    "    print('Else2')"
   ]
  },
  {
   "cell_type": "code",
   "execution_count": 22,
   "metadata": {},
   "outputs": [
    {
     "ename": "SyntaxError",
     "evalue": "invalid syntax (<ipython-input-22-ea8fc3df703a>, line 8)",
     "output_type": "error",
     "traceback": [
      "\u001b[1;36m  File \u001b[1;32m\"<ipython-input-22-ea8fc3df703a>\"\u001b[1;36m, line \u001b[1;32m8\u001b[0m\n\u001b[1;33m    finally:\u001b[0m\n\u001b[1;37m          ^\u001b[0m\n\u001b[1;31mSyntaxError\u001b[0m\u001b[1;31m:\u001b[0m invalid syntax\n"
     ]
    }
   ],
   "source": [
    "#Case 12\n",
    "try:\n",
    "    print('try')\n",
    "except:\n",
    "    print('Except')\n",
    "finally:\n",
    "    print('F1')\n",
    "finally:\n",
    "    print('F2')"
   ]
  },
  {
   "cell_type": "code",
   "execution_count": 23,
   "metadata": {},
   "outputs": [
    {
     "ename": "ZeroDivisionError",
     "evalue": "division by zero",
     "output_type": "error",
     "traceback": [
      "\u001b[1;31m---------------------------------------------------------------------------\u001b[0m",
      "\u001b[1;31mZeroDivisionError\u001b[0m                         Traceback (most recent call last)",
      "\u001b[1;32m<ipython-input-23-e574edb36883>\u001b[0m in \u001b[0;36m<module>\u001b[1;34m\u001b[0m\n\u001b[1;32m----> 1\u001b[1;33m \u001b[1;36m10\u001b[0m\u001b[1;33m/\u001b[0m\u001b[1;36m0\u001b[0m\u001b[1;33m\u001b[0m\u001b[1;33m\u001b[0m\u001b[0m\n\u001b[0m",
      "\u001b[1;31mZeroDivisionError\u001b[0m: division by zero"
     ]
    }
   ],
   "source": [
    "10/0"
   ]
  },
  {
   "cell_type": "code",
   "execution_count": 30,
   "metadata": {},
   "outputs": [
    {
     "ename": "SyntaxError",
     "evalue": "invalid syntax (<ipython-input-30-1fe8d9dd085d>, line 4)",
     "output_type": "error",
     "traceback": [
      "\u001b[1;36m  File \u001b[1;32m\"<ipython-input-30-1fe8d9dd085d>\"\u001b[1;36m, line \u001b[1;32m4\u001b[0m\n\u001b[1;33m    print('Hello')\u001b[0m\n\u001b[1;37m        ^\u001b[0m\n\u001b[1;31mSyntaxError\u001b[0m\u001b[1;31m:\u001b[0m invalid syntax\n"
     ]
    }
   ],
   "source": [
    "#Case 13\n",
    "try:\n",
    "    print('try')\n",
    "print('Hello')\n",
    "except:\n",
    "    print('Except')\n",
    "#Cannot write any statement between try and except"
   ]
  },
  {
   "cell_type": "code",
   "execution_count": 31,
   "metadata": {},
   "outputs": [
    {
     "ename": "SyntaxError",
     "evalue": "invalid syntax (<ipython-input-31-371aa8301df5>, line 7)",
     "output_type": "error",
     "traceback": [
      "\u001b[1;36m  File \u001b[1;32m\"<ipython-input-31-371aa8301df5>\"\u001b[1;36m, line \u001b[1;32m7\u001b[0m\n\u001b[1;33m    except TypeError:\u001b[0m\n\u001b[1;37m         ^\u001b[0m\n\u001b[1;31mSyntaxError\u001b[0m\u001b[1;31m:\u001b[0m invalid syntax\n"
     ]
    }
   ],
   "source": [
    "#Case 14\n",
    "try:\n",
    "    print('try')\n",
    "except ZeroDivisionError:\n",
    "    print('Except1')\n",
    "print('Hello')\n",
    "except TypeError:\n",
    "    print('Except2')"
   ]
  },
  {
   "cell_type": "code",
   "execution_count": 32,
   "metadata": {},
   "outputs": [
    {
     "ename": "SyntaxError",
     "evalue": "invalid syntax (<ipython-input-32-e62dd9215f9d>, line 7)",
     "output_type": "error",
     "traceback": [
      "\u001b[1;36m  File \u001b[1;32m\"<ipython-input-32-e62dd9215f9d>\"\u001b[1;36m, line \u001b[1;32m7\u001b[0m\n\u001b[1;33m    finally:\u001b[0m\n\u001b[1;37m          ^\u001b[0m\n\u001b[1;31mSyntaxError\u001b[0m\u001b[1;31m:\u001b[0m invalid syntax\n"
     ]
    }
   ],
   "source": [
    "#Case 15\n",
    "try:\n",
    "    print('try')\n",
    "except ZeroDivisionError:\n",
    "    print('Except1')\n",
    "print('Hello')\n",
    "finally:\n",
    "    print('Finally')"
   ]
  },
  {
   "cell_type": "code",
   "execution_count": 33,
   "metadata": {},
   "outputs": [
    {
     "ename": "SyntaxError",
     "evalue": "invalid syntax (<ipython-input-33-ce5a85f50ccd>, line 7)",
     "output_type": "error",
     "traceback": [
      "\u001b[1;36m  File \u001b[1;32m\"<ipython-input-33-ce5a85f50ccd>\"\u001b[1;36m, line \u001b[1;32m7\u001b[0m\n\u001b[1;33m    else:\u001b[0m\n\u001b[1;37m       ^\u001b[0m\n\u001b[1;31mSyntaxError\u001b[0m\u001b[1;31m:\u001b[0m invalid syntax\n"
     ]
    }
   ],
   "source": [
    "#Case 16\n",
    "try:\n",
    "    print('try')\n",
    "except ZeroDivisionError:\n",
    "    print('Except1')\n",
    "print('Hello')\n",
    "else:\n",
    "    print('Else')"
   ]
  },
  {
   "cell_type": "code",
   "execution_count": 34,
   "metadata": {},
   "outputs": [
    {
     "name": "stdout",
     "output_type": "stream",
     "text": [
      "try1\n",
      "Try2\n"
     ]
    }
   ],
   "source": [
    "#Case 17\n",
    "try:\n",
    "    print('try1')\n",
    "except:\n",
    "    print('Except1')\n",
    "try:\n",
    "    print('Try2')\n",
    "except:\n",
    "    print('Except2')"
   ]
  },
  {
   "cell_type": "code",
   "execution_count": 50,
   "metadata": {},
   "outputs": [
    {
     "name": "stdout",
     "output_type": "stream",
     "text": [
      "Try\n",
      "try\n",
      "Finally\n"
     ]
    },
    {
     "ename": "ZeroDivisionError",
     "evalue": "division by zero",
     "output_type": "error",
     "traceback": [
      "\u001b[1;31m---------------------------------------------------------------------------\u001b[0m",
      "\u001b[1;31mZeroDivisionError\u001b[0m                         Traceback (most recent call last)",
      "\u001b[1;32m<ipython-input-50-ff575f398cdd>\u001b[0m in \u001b[0;36m<module>\u001b[1;34m\u001b[0m\n\u001b[0;32m      6\u001b[0m \u001b[1;32mtry\u001b[0m\u001b[1;33m:\u001b[0m\u001b[1;33m\u001b[0m\u001b[1;33m\u001b[0m\u001b[0m\n\u001b[0;32m      7\u001b[0m     \u001b[0mprint\u001b[0m\u001b[1;33m(\u001b[0m\u001b[1;34m'try'\u001b[0m\u001b[1;33m)\u001b[0m\u001b[1;33m\u001b[0m\u001b[1;33m\u001b[0m\u001b[0m\n\u001b[1;32m----> 8\u001b[1;33m     \u001b[0mprint\u001b[0m\u001b[1;33m(\u001b[0m\u001b[1;36m10\u001b[0m\u001b[1;33m/\u001b[0m\u001b[1;36m0\u001b[0m\u001b[1;33m)\u001b[0m\u001b[1;33m\u001b[0m\u001b[1;33m\u001b[0m\u001b[0m\n\u001b[0m\u001b[0;32m      9\u001b[0m \u001b[1;32mfinally\u001b[0m\u001b[1;33m:\u001b[0m\u001b[1;33m\u001b[0m\u001b[1;33m\u001b[0m\u001b[0m\n\u001b[0;32m     10\u001b[0m     \u001b[0mprint\u001b[0m\u001b[1;33m(\u001b[0m\u001b[1;34m'Finally'\u001b[0m\u001b[1;33m)\u001b[0m\u001b[1;33m\u001b[0m\u001b[1;33m\u001b[0m\u001b[0m\n",
      "\u001b[1;31mZeroDivisionError\u001b[0m: division by zero"
     ]
    }
   ],
   "source": [
    "#Case 18\n",
    "try:\n",
    "    print('Try')\n",
    "except:\n",
    "    print('except')\n",
    "try:\n",
    "    print('try')\n",
    "    print(10/0)\n",
    "finally:\n",
    "    print('Finally')"
   ]
  },
  {
   "cell_type": "code",
   "execution_count": 37,
   "metadata": {},
   "outputs": [
    {
     "name": "stdout",
     "output_type": "stream",
     "text": [
      "try\n",
      "else\n"
     ]
    }
   ],
   "source": [
    "#Case 19\n",
    "try:\n",
    "    print('try')\n",
    "except:\n",
    "    print('Except1')\n",
    "\n",
    "if 10>20:\n",
    "    print('if')\n",
    "else:\n",
    "    print('else')"
   ]
  },
  {
   "cell_type": "code",
   "execution_count": 38,
   "metadata": {},
   "outputs": [
    {
     "name": "stdout",
     "output_type": "stream",
     "text": [
      "try\n",
      "Inner try\n",
      "Inner finally\n"
     ]
    }
   ],
   "source": [
    "#Case 20\n",
    "try:\n",
    "    print('try')\n",
    "    try:\n",
    "        print('Inner try')\n",
    "    except:\n",
    "        print('Inner except')\n",
    "    finally:\n",
    "        print('Inner finally')\n",
    "except:\n",
    "    print('Except')"
   ]
  },
  {
   "cell_type": "code",
   "execution_count": 39,
   "metadata": {},
   "outputs": [
    {
     "name": "stdout",
     "output_type": "stream",
     "text": [
      "try\n"
     ]
    }
   ],
   "source": [
    "#Csae 21\n",
    "try:\n",
    "    print('try')\n",
    "except:\n",
    "    print('Except')\n",
    "    try:\n",
    "        print('Inner Try')\n",
    "    except:\n",
    "        print('Inner Except')\n",
    "    finally:\n",
    "        print('Inner finally')"
   ]
  },
  {
   "cell_type": "code",
   "execution_count": 40,
   "metadata": {},
   "outputs": [
    {
     "name": "stdout",
     "output_type": "stream",
     "text": [
      "try\n",
      "Finally\n",
      "Inner try\n",
      "Inner Finally\n"
     ]
    }
   ],
   "source": [
    "#Case 22\n",
    "try:\n",
    "    print('try')\n",
    "except:\n",
    "    print('Except')\n",
    "finally:\n",
    "    print('Finally')\n",
    "    try:\n",
    "        print('Inner try')\n",
    "    except:\n",
    "        print('Inner Except')\n",
    "    finally:\n",
    "        print('Inner Finally')"
   ]
  },
  {
   "cell_type": "code",
   "execution_count": 41,
   "metadata": {},
   "outputs": [
    {
     "ename": "SyntaxError",
     "evalue": "invalid syntax (<ipython-input-41-bcb3ed57c449>, line 8)",
     "output_type": "error",
     "traceback": [
      "\u001b[1;36m  File \u001b[1;32m\"<ipython-input-41-bcb3ed57c449>\"\u001b[1;36m, line \u001b[1;32m8\u001b[0m\n\u001b[1;33m    else:\u001b[0m\n\u001b[1;37m       ^\u001b[0m\n\u001b[1;31mSyntaxError\u001b[0m\u001b[1;31m:\u001b[0m invalid syntax\n"
     ]
    }
   ],
   "source": [
    "#Case 23\n",
    "try:\n",
    "    print('try')\n",
    "except:\n",
    "    print('Except')\n",
    "try:\n",
    "    print('Try')\n",
    "else:\n",
    "    print('Else')"
   ]
  },
  {
   "cell_type": "code",
   "execution_count": 44,
   "metadata": {},
   "outputs": [
    {
     "ename": "IndentationError",
     "evalue": "unexpected unindent (<ipython-input-44-5015078fcdbd>, line 6)",
     "output_type": "error",
     "traceback": [
      "\u001b[1;36m  File \u001b[1;32m\"<ipython-input-44-5015078fcdbd>\"\u001b[1;36m, line \u001b[1;32m6\u001b[0m\n\u001b[1;33m    except:\u001b[0m\n\u001b[1;37m           ^\u001b[0m\n\u001b[1;31mIndentationError\u001b[0m\u001b[1;31m:\u001b[0m unexpected unindent\n"
     ]
    }
   ],
   "source": [
    "#Case 24:\n",
    "try:\n",
    "    print('try')\n",
    "    try:\n",
    "        print('Inner Try')\n",
    "except:\n",
    "    print('Except')\n",
    "finally:\n",
    "    print('Finally')"
   ]
  },
  {
   "cell_type": "code",
   "execution_count": 45,
   "metadata": {},
   "outputs": [
    {
     "name": "stdout",
     "output_type": "stream",
     "text": [
      "Try\n",
      "Inner try\n",
      "Finally\n"
     ]
    }
   ],
   "source": [
    "#Case 25\n",
    "try:\n",
    "    print('Try')\n",
    "    try:\n",
    "        print('Inner try')\n",
    "    except:\n",
    "        print('Except')\n",
    "finally:\n",
    "    print('Finally')"
   ]
  },
  {
   "cell_type": "code",
   "execution_count": 47,
   "metadata": {},
   "outputs": [
    {
     "name": "stdout",
     "output_type": "stream",
     "text": [
      "try\n",
      "Else\n",
      "Try\n",
      "Finally\n"
     ]
    }
   ],
   "source": [
    "#Case 26\n",
    "try:\n",
    "    print('try')\n",
    "except:\n",
    "    print('Except')\n",
    "else:\n",
    "    print('Else')\n",
    "    try:\n",
    "        print('Try')\n",
    "    except:\n",
    "        print('Except')\n",
    "finally:\n",
    "    print('Finally')"
   ]
  },
  {
   "cell_type": "code",
   "execution_count": 49,
   "metadata": {},
   "outputs": [
    {
     "name": "stdout",
     "output_type": "stream",
     "text": [
      "first no is 10\n",
      "first no is 0\n",
      "hi\n",
      "Division by zero is error !!\n",
      "Done with inner try and catch\n",
      "Done\n",
      "This will execute no matter what\n",
      "finally Doneeeeeee\n"
     ]
    }
   ],
   "source": [
    "print\n",
    "num1=10\n",
    "num2=0\n",
    "try:\n",
    "    print(\"first no is {}\".format(num1))\n",
    "    print(\"first no is {}\".format(num2))\n",
    "    try:\n",
    "        print('hi')\n",
    "        result = num1 / num2\n",
    "        print(\"Result is {}\".format(result))  \n",
    "    except ZeroDivisionError:\n",
    "        print(\"Division by zero is error !!\") \n",
    "    finally:\n",
    "        print(\"Done with inner try and catch\")\n",
    "    print(\"Done\")\n",
    "except SyntaxError:\n",
    "    print(\"Comma is missing. Enter numbers separated by comma like this 1, 2\")\n",
    "finally:\n",
    "    print(\"This will execute no matter what\")\n",
    "print(\"finally Doneeeeeee\")\n"
   ]
  },
  {
   "cell_type": "code",
   "execution_count": 1,
   "metadata": {},
   "outputs": [],
   "source": [
    "#Types of exceptions \n",
    "#Predefined Exceptions / Inbuilt exceptions \n",
    "#User defined exceptions / Customized exceptions "
   ]
  },
  {
   "cell_type": "code",
   "execution_count": 3,
   "metadata": {},
   "outputs": [
    {
     "ename": "TypeError",
     "evalue": "unsupported operand type(s) for /: 'int' and 'str'",
     "output_type": "error",
     "traceback": [
      "\u001b[1;31m---------------------------------------------------------------------------\u001b[0m",
      "\u001b[1;31mTypeError\u001b[0m                                 Traceback (most recent call last)",
      "\u001b[1;32m<ipython-input-3-edb311d5943c>\u001b[0m in \u001b[0;36m<module>\u001b[1;34m\u001b[0m\n\u001b[1;32m----> 1\u001b[1;33m \u001b[1;36m10\u001b[0m\u001b[1;33m/\u001b[0m\u001b[1;34m'a'\u001b[0m\u001b[1;33m\u001b[0m\u001b[1;33m\u001b[0m\u001b[0m\n\u001b[0m",
      "\u001b[1;31mTypeError\u001b[0m: unsupported operand type(s) for /: 'int' and 'str'"
     ]
    }
   ],
   "source": [
    "10/'a'"
   ]
  },
  {
   "cell_type": "code",
   "execution_count": 4,
   "metadata": {},
   "outputs": [],
   "source": [
    "#User defined functions \n",
    "    #Bank ATM example \n",
    "    #18ADC54355443FGHF54566\n",
    "    #18ADC54355443FGHF54566\n",
    "    #Adult Movie"
   ]
  },
  {
   "cell_type": "code",
   "execution_count": 13,
   "metadata": {},
   "outputs": [
    {
     "name": "stdout",
     "output_type": "stream",
     "text": [
      "Enter Age61\n"
     ]
    },
    {
     "ename": "TooOldException",
     "evalue": "Please do not see the movie else it will be ur last movie",
     "output_type": "error",
     "traceback": [
      "\u001b[1;31m---------------------------------------------------------------------------\u001b[0m",
      "\u001b[1;31mTooOldException\u001b[0m                           Traceback (most recent call last)",
      "\u001b[1;32m<ipython-input-13-9203df9ef1e4>\u001b[0m in \u001b[0;36m<module>\u001b[1;34m\u001b[0m\n\u001b[0;32m      8\u001b[0m \u001b[0mage\u001b[0m \u001b[1;33m=\u001b[0m \u001b[0mint\u001b[0m\u001b[1;33m(\u001b[0m\u001b[0minput\u001b[0m\u001b[1;33m(\u001b[0m\u001b[1;34m'Enter Age'\u001b[0m\u001b[1;33m)\u001b[0m\u001b[1;33m)\u001b[0m\u001b[1;33m\u001b[0m\u001b[1;33m\u001b[0m\u001b[0m\n\u001b[0;32m      9\u001b[0m \u001b[1;32mif\u001b[0m \u001b[0mage\u001b[0m \u001b[1;33m>\u001b[0m\u001b[1;36m60\u001b[0m\u001b[1;33m:\u001b[0m\u001b[1;33m\u001b[0m\u001b[1;33m\u001b[0m\u001b[0m\n\u001b[1;32m---> 10\u001b[1;33m     \u001b[1;32mraise\u001b[0m \u001b[0mTooOldException\u001b[0m\u001b[1;33m(\u001b[0m\u001b[1;34m'Please do not see the movie else it will be ur last movie'\u001b[0m\u001b[1;33m)\u001b[0m\u001b[1;33m\u001b[0m\u001b[1;33m\u001b[0m\u001b[0m\n\u001b[0m\u001b[0;32m     11\u001b[0m \u001b[1;32melif\u001b[0m \u001b[0mage\u001b[0m \u001b[1;33m<\u001b[0m \u001b[1;36m18\u001b[0m\u001b[1;33m:\u001b[0m\u001b[1;33m\u001b[0m\u001b[1;33m\u001b[0m\u001b[0m\n\u001b[0;32m     12\u001b[0m     \u001b[1;32mraise\u001b[0m \u001b[0mTooYoungException\u001b[0m\u001b[1;33m(\u001b[0m\u001b[1;34m'You are too young to see this movie'\u001b[0m\u001b[1;33m)\u001b[0m\u001b[1;33m\u001b[0m\u001b[1;33m\u001b[0m\u001b[0m\n",
      "\u001b[1;31mTooOldException\u001b[0m: Please do not see the movie else it will be ur last movie"
     ]
    }
   ],
   "source": [
    "class TooYoungException(Exception):\n",
    "    def __init__(self,arg):\n",
    "        self.msg = arg\n",
    "class TooOldException(Exception):\n",
    "    def __init__(self,arg):\n",
    "        self.msg = arg       \n",
    "\n",
    "age = int(input('Enter Age'))\n",
    "if age >60:\n",
    "    raise TooOldException('Please do not see the movie else it will be ur last movie')\n",
    "elif age < 18:\n",
    "    raise TooYoungException('You are too young to see this movie')\n",
    "else:\n",
    "    print('Your ticket is confirmed')"
   ]
  },
  {
   "cell_type": "code",
   "execution_count": 17,
   "metadata": {},
   "outputs": [
    {
     "name": "stdout",
     "output_type": "stream",
     "text": [
      "Number 2:a\n"
     ]
    },
    {
     "ename": "ValueError",
     "evalue": "invalid literal for int() with base 10: 'a'",
     "output_type": "error",
     "traceback": [
      "\u001b[1;31m---------------------------------------------------------------------------\u001b[0m",
      "\u001b[1;31mValueError\u001b[0m                                Traceback (most recent call last)",
      "\u001b[1;32m<ipython-input-17-2f1b79b87c78>\u001b[0m in \u001b[0;36m<module>\u001b[1;34m\u001b[0m\n\u001b[0;32m      1\u001b[0m \u001b[0mresult\u001b[0m \u001b[1;33m=\u001b[0m \u001b[1;32mNone\u001b[0m\u001b[1;33m\u001b[0m\u001b[1;33m\u001b[0m\u001b[0m\n\u001b[1;32m----> 2\u001b[1;33m \u001b[0my\u001b[0m \u001b[1;33m=\u001b[0m \u001b[0mint\u001b[0m\u001b[1;33m(\u001b[0m\u001b[0minput\u001b[0m\u001b[1;33m(\u001b[0m\u001b[1;34m'Number 2:'\u001b[0m\u001b[1;33m)\u001b[0m\u001b[1;33m)\u001b[0m\u001b[1;33m\u001b[0m\u001b[1;33m\u001b[0m\u001b[0m\n\u001b[0m\u001b[0;32m      3\u001b[0m \u001b[1;32mtry\u001b[0m\u001b[1;33m:\u001b[0m\u001b[1;33m\u001b[0m\u001b[1;33m\u001b[0m\u001b[0m\n\u001b[0;32m      4\u001b[0m     \u001b[0mx\u001b[0m \u001b[1;33m=\u001b[0m \u001b[0mint\u001b[0m\u001b[1;33m(\u001b[0m\u001b[0minput\u001b[0m\u001b[1;33m(\u001b[0m\u001b[1;34m'Number 1:'\u001b[0m\u001b[1;33m)\u001b[0m\u001b[1;33m)\u001b[0m\u001b[1;33m\u001b[0m\u001b[1;33m\u001b[0m\u001b[0m\n\u001b[0;32m      5\u001b[0m \u001b[1;33m\u001b[0m\u001b[0m\n",
      "\u001b[1;31mValueError\u001b[0m: invalid literal for int() with base 10: 'a'"
     ]
    }
   ],
   "source": [
    "result = None\n",
    "y = int(input('Number 2:'))\n",
    "try:\n",
    "    x = int(input('Number 1:'))\n",
    "    \n",
    "    result = x/y\n",
    "except:\n",
    "    print('Error in your code')\n",
    "print('Result', result)"
   ]
  },
  {
   "cell_type": "code",
   "execution_count": 24,
   "metadata": {},
   "outputs": [
    {
     "name": "stdout",
     "output_type": "stream",
     "text": [
      "Number 1:10\n",
      "Number 2:a\n",
      "<class 'ValueError'>\n",
      "Result None\n"
     ]
    }
   ],
   "source": [
    "result = None\n",
    "\n",
    "try:\n",
    "    x = int(input('Number 1:'))\n",
    "    y = int(input('Number 2:'))\n",
    "    result = x/y\n",
    "except ZeroDivisionError as e:\n",
    "    print(type(e))\n",
    "    print('Error in your code')\n",
    "except ValueError as e:\n",
    "    print(type(e))\n",
    "print('Result', result)"
   ]
  },
  {
   "cell_type": "code",
   "execution_count": 26,
   "metadata": {},
   "outputs": [
    {
     "name": "stdout",
     "output_type": "stream",
     "text": [
      "Number 1:10\n",
      "Number 2:a\n",
      "<class 'ValueError'>\n",
      "Error in your code\n",
      "Result None\n"
     ]
    }
   ],
   "source": [
    "result = None\n",
    "\n",
    "try:\n",
    "    x = int(input('Number 1:'))\n",
    "    y = int(input('Number 2:'))\n",
    "    result = x/y\n",
    "except Exception as e:\n",
    "    print(type(e))\n",
    "    print('Error in your code')\n",
    "\n",
    "print('Result', result)"
   ]
  },
  {
   "cell_type": "code",
   "execution_count": null,
   "metadata": {},
   "outputs": [],
   "source": [
    "class TooYoungException(Exception):\n",
    "    def __init__(self,arg):\n",
    "        self.msg = arg\n",
    "class TooOldException(Exception):\n",
    "    def __init__(self,arg):\n",
    "        self.msg = arg       \n",
    "\n",
    "age = int(input('Enter Age'))\n",
    "if age >60:\n",
    "    raise TooOldException('Please do not see the movie else it will be ur last movie')\n",
    "elif age < 18:\n",
    "    raise TooYoungException('You are too young to see this movie')\n",
    "else:\n",
    "    print('Your ticket is confirmed')"
   ]
  },
  {
   "cell_type": "code",
   "execution_count": null,
   "metadata": {},
   "outputs": [],
   "source": [
    "result18 = None\n",
    "\n",
    "try:\n",
    "    Age = int(input('Enter your age:'))\n",
    "    \n",
    "    result18 < 1\n",
    "    10/0\n",
    "except Exception as e:\n",
    "    print(type(e))\n",
    "    print('Error in your code')\n",
    "\n",
    "print('Result', result)"
   ]
  },
  {
   "cell_type": "code",
   "execution_count": 29,
   "metadata": {},
   "outputs": [
    {
     "name": "stdout",
     "output_type": "stream",
     "text": [
      "You can have your tea\n"
     ]
    }
   ],
   "source": [
    "class TeaException(Exception):\n",
    "    def __init__(self,arg):\n",
    "        self.msg = arg\n",
    "temp=1\n",
    "if temp==0:\n",
    "    raise TeaException('Its too cold to drink')\n",
    "else:\n",
    "    print('You can have your tea')"
   ]
  },
  {
   "cell_type": "code",
   "execution_count": 30,
   "metadata": {},
   "outputs": [],
   "source": [
    "#Logging priority Levels\n",
    "    #CRITICAL - 50 - Serious problem that needs high attention \n",
    "    #ERROR - 40 - Problem is serious but not that much critical \n",
    "    #WARNING - 30 - Caution must be required , alert to the programmer\n",
    "    #INFO - 20 - Message with some important information \n",
    "    #DEBUG - 10 - With debugging information \n",
    "    #NOTSET - 0 - Logging level not set "
   ]
  },
  {
   "cell_type": "code",
   "execution_count": 33,
   "metadata": {},
   "outputs": [
    {
     "name": "stdout",
     "output_type": "stream",
     "text": [
      "Python Logging Demo\n"
     ]
    }
   ],
   "source": [
    "#How to implement \n",
    "    #Need to create the file to store the messages \n",
    "    #Level messages \n",
    "import logging\n",
    "logging.basicConfig(filename = 'log.txt', level = logging.DEBUG)\n",
    "print('Python Logging Demo')\n",
    "logging.debug('This is a debug message')\n",
    "logging.info('This is an info message')\n",
    "logging.warning('This is a warning message')\n",
    "logging.error('This is an error message')\n",
    "logging.critical('This is a critical message')"
   ]
  },
  {
   "cell_type": "code",
   "execution_count": 32,
   "metadata": {},
   "outputs": [
    {
     "data": {
      "text/plain": [
       "'C:\\\\Users\\\\Admin\\\\Desktop\\\\LoggingDemo'"
      ]
     },
     "execution_count": 32,
     "metadata": {},
     "output_type": "execute_result"
    }
   ],
   "source": [
    "import os\n",
    "os.chdir(r'C:\\Users\\Admin\\Desktop\\LoggingDemo')\n",
    "os.getcwd()"
   ]
  },
  {
   "cell_type": "code",
   "execution_count": 38,
   "metadata": {},
   "outputs": [
    {
     "name": "stdout",
     "output_type": "stream",
     "text": [
      "Enter first number10\n",
      "Enter second number0\n",
      "Cannot divide with zero\n"
     ]
    }
   ],
   "source": [
    "logging.basicConfig(filename = 'log.txt', level = logging.DEBUG)\n",
    "logging.info('A new request came')\n",
    "try:\n",
    "    x = int(input('Enter first number'))\n",
    "    y = int(input('Enter second number'))\n",
    "    print(x/y)\n",
    "except ZeroDivisionError as e:\n",
    "    print('Cannot divide with zero')\n",
    "    logging.exception(e)\n",
    "    logging.critical('This is a critical error')\n",
    "except ValueError as e:\n",
    "    print('Enter only int value')\n",
    "    logging.exception(e)\n",
    "logging.info('Request processing completed')"
   ]
  },
  {
   "cell_type": "code",
   "execution_count": null,
   "metadata": {},
   "outputs": [],
   "source": [
    "#Debugging \n",
    "...\n",
    "...\n",
    "...\n",
    "...\n",
    "..\n",
    "..\n",
    "...\n",
    "..\n",
    "..\n",
    "...\n",
    "....\n",
    "\n",
    "..\n",
    "print('x')\n",
    "..\n",
    "print('x')\n",
    "...\n",
    "..\n",
    ".."
   ]
  },
  {
   "cell_type": "code",
   "execution_count": 49,
   "metadata": {},
   "outputs": [
    {
     "ename": "SyntaxError",
     "evalue": "unexpected EOF while parsing (<ipython-input-49-4480b8e111be>, line 8)",
     "output_type": "error",
     "traceback": [
      "\u001b[1;36m  File \u001b[1;32m\"<ipython-input-49-4480b8e111be>\"\u001b[1;36m, line \u001b[1;32m8\u001b[0m\n\u001b[1;33m    else:\u001b[0m\n\u001b[1;37m         ^\u001b[0m\n\u001b[1;31mSyntaxError\u001b[0m\u001b[1;31m:\u001b[0m unexpected EOF while parsing\n"
     ]
    }
   ],
   "source": [
    "x = 10\n",
    "if x>10:\n",
    "    print(x*0.25)\n",
    "    \n",
    "elif x<10:\n",
    "    print(x*0.75)\n",
    "    \n",
    "else:\n"
   ]
  },
  {
   "cell_type": "code",
   "execution_count": 50,
   "metadata": {},
   "outputs": [],
   "source": [
    "#assert statements \n",
    "    #Types of assert statement\n",
    "        #simple assert\n",
    "        #very simple (Augmented version)"
   ]
  },
  {
   "cell_type": "code",
   "execution_count": 53,
   "metadata": {},
   "outputs": [
    {
     "ename": "AssertionError",
     "evalue": "value changed",
     "output_type": "error",
     "traceback": [
      "\u001b[1;31m---------------------------------------------------------------------------\u001b[0m",
      "\u001b[1;31mAssertionError\u001b[0m                            Traceback (most recent call last)",
      "\u001b[1;32m<ipython-input-53-4ddcfbb97740>\u001b[0m in \u001b[0;36m<module>\u001b[1;34m\u001b[0m\n\u001b[0;32m      1\u001b[0m \u001b[0mx\u001b[0m \u001b[1;33m=\u001b[0m \u001b[1;36m10\u001b[0m\u001b[1;33m\u001b[0m\u001b[1;33m\u001b[0m\u001b[0m\n\u001b[0;32m      2\u001b[0m \u001b[0mx\u001b[0m\u001b[1;33m=\u001b[0m\u001b[1;36m9\u001b[0m\u001b[1;33m\u001b[0m\u001b[1;33m\u001b[0m\u001b[0m\n\u001b[1;32m----> 3\u001b[1;33m \u001b[1;32massert\u001b[0m \u001b[0mx\u001b[0m \u001b[1;33m==\u001b[0m\u001b[1;36m10\u001b[0m \u001b[1;33m,\u001b[0m \u001b[1;34m'value changed'\u001b[0m\u001b[1;33m\u001b[0m\u001b[1;33m\u001b[0m\u001b[0m\n\u001b[0m\u001b[0;32m      4\u001b[0m \u001b[0mprint\u001b[0m\u001b[1;33m(\u001b[0m\u001b[0mx\u001b[0m\u001b[1;33m)\u001b[0m\u001b[1;33m\u001b[0m\u001b[1;33m\u001b[0m\u001b[0m\n",
      "\u001b[1;31mAssertionError\u001b[0m: value changed"
     ]
    }
   ],
   "source": [
    "x = 10\n",
    "x=9\n",
    "assert x ==10 , 'value changed'\n",
    "print(x)"
   ]
  },
  {
   "cell_type": "code",
   "execution_count": 60,
   "metadata": {},
   "outputs": [
    {
     "name": "stdout",
     "output_type": "stream",
     "text": [
      "4\n",
      "9\n",
      "16\n"
     ]
    }
   ],
   "source": [
    "def square(x):\n",
    "    return x**x\n",
    "assert square(2)==4 , 'The square of 2 should be 4'\n",
    "assert square(3)==9 , 'The square of 3 should be 9'\n",
    "assert square(4)==64 , 'The square of 4 should be 64'\n",
    "\n",
    "print(square(2))\n",
    "print(square(3))\n",
    "print(square(4))"
   ]
  },
  {
   "cell_type": "code",
   "execution_count": null,
   "metadata": {},
   "outputs": [],
   "source": []
  },
  {
   "cell_type": "code",
   "execution_count": null,
   "metadata": {},
   "outputs": [],
   "source": []
  },
  {
   "cell_type": "code",
   "execution_count": null,
   "metadata": {},
   "outputs": [],
   "source": []
  }
 ],
 "metadata": {
  "kernelspec": {
   "display_name": "Python 3",
   "language": "python",
   "name": "python3"
  },
  "language_info": {
   "codemirror_mode": {
    "name": "ipython",
    "version": 3
   },
   "file_extension": ".py",
   "mimetype": "text/x-python",
   "name": "python",
   "nbconvert_exporter": "python",
   "pygments_lexer": "ipython3",
   "version": "3.7.4"
  }
 },
 "nbformat": 4,
 "nbformat_minor": 2
}
