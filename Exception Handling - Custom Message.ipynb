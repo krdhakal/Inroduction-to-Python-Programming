{
 "cells": [
  {
   "cell_type": "code",
   "execution_count": 2,
   "metadata": {},
   "outputs": [
    {
     "name": "stdout",
     "output_type": "stream",
     "text": [
      "Enter the number: a\n",
      "Some other error\n",
      "The job completed...\n"
     ]
    }
   ],
   "source": [
    "try:\n",
    "    result = 0 \n",
    "    x = int(input('Enter the number: '))\n",
    "    y = int(input('Enter the number: '))\n",
    "    print(result)\n",
    "    result = x/y\n",
    "    print(result)\n",
    "except Exception as e:\n",
    "    if str(e) == \"division by zero\":\n",
    "        print('its zero')\n",
    "    else:\n",
    "        print('Some other error')\n",
    "else:\n",
    "    print('The new result is: ', result)\n",
    "finally:\n",
    "    print('The job completed...')"
   ]
  }
 ],
 "metadata": {
  "kernelspec": {
   "display_name": "Python 3",
   "language": "python",
   "name": "python3"
  },
  "language_info": {
   "codemirror_mode": {
    "name": "ipython",
    "version": 3
   },
   "file_extension": ".py",
   "mimetype": "text/x-python",
   "name": "python",
   "nbconvert_exporter": "python",
   "pygments_lexer": "ipython3",
   "version": "3.8.3"
  }
 },
 "nbformat": 4,
 "nbformat_minor": 4
}
