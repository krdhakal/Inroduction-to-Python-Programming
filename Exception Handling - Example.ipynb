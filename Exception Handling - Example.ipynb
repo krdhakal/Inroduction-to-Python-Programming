{
 "cells": [
  {
   "cell_type": "code",
   "execution_count": 1,
   "metadata": {},
   "outputs": [],
   "source": [
    "class TooYoungException(Exception):\n",
    "    \"\"\"Raise when the age is less than 18 years\"\"\"\n",
    "    pass"
   ]
  },
  {
   "cell_type": "code",
   "execution_count": 2,
   "metadata": {},
   "outputs": [],
   "source": [
    "class TooOldException(Exception):\n",
    "    \"\"\"Raise when the age is more than 60 years\"\"\"\n",
    "    pass"
   ]
  },
  {
   "cell_type": "code",
   "execution_count": 5,
   "metadata": {},
   "outputs": [
    {
     "name": "stdout",
     "output_type": "stream",
     "text": [
      "Enter the age of the customer34\n",
      "Your ticket is confirmed\n",
      "Enjoy the movie\n",
      "Your transaction is completed, have a nice day\n"
     ]
    }
   ],
   "source": [
    "try: \n",
    "    enter_age = int(input('Enter the age of the customer'))\n",
    "    if enter_age <18: \n",
    "        raise TooYoungException\n",
    "    elif enter_age>60:\n",
    "        raise TooOldException\n",
    "    else:\n",
    "        print('Your ticket is confirmed')\n",
    "        \n",
    "except TooYoungException:\n",
    "    print('Your age is too less to see the movie')\n",
    "    print()\n",
    "    \n",
    "except TooOldException:\n",
    "    print('Your age is too high to see the movie')\n",
    "    print()\n",
    "    \n",
    "else:\n",
    "    print('Enjoy the movie')\n",
    "\n",
    "finally:\n",
    "    print('Your transaction is completed, have a nice day')    "
   ]
  },
  {
   "cell_type": "code",
   "execution_count": null,
   "metadata": {},
   "outputs": [],
   "source": []
  },
  {
   "cell_type": "code",
   "execution_count": null,
   "metadata": {},
   "outputs": [],
   "source": []
  }
 ],
 "metadata": {
  "kernelspec": {
   "display_name": "Python 3",
   "language": "python",
   "name": "python3"
  },
  "language_info": {
   "codemirror_mode": {
    "name": "ipython",
    "version": 3
   },
   "file_extension": ".py",
   "mimetype": "text/x-python",
   "name": "python",
   "nbconvert_exporter": "python",
   "pygments_lexer": "ipython3",
   "version": "3.7.4"
  }
 },
 "nbformat": 4,
 "nbformat_minor": 2
}
