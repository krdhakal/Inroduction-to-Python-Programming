{
 "cells": [
  {
   "cell_type": "code",
   "execution_count": null,
   "metadata": {},
   "outputs": [],
   "source": [
    "#rahul\n",
    "#0 2 4\n",
    "#rhl\n",
    "#au"
   ]
  },
  {
   "cell_type": "code",
   "execution_count": 2,
   "metadata": {},
   "outputs": [
    {
     "name": "stdout",
     "output_type": "stream",
     "text": [
      "Enter some stringrahul\n",
      "Characters at even position: rhl\n",
      "Characters at odd position: au\n"
     ]
    }
   ],
   "source": [
    "s = input('Enter some string')\n",
    "print('Characters at even position:', s[::2])\n",
    "print('Characters at odd position:', s[1::2])"
   ]
  },
  {
   "cell_type": "code",
   "execution_count": 3,
   "metadata": {},
   "outputs": [
    {
     "name": "stdout",
     "output_type": "stream",
     "text": [
      "Enter some stringrahul\n",
      "The characters at even position\n",
      "r,h,l,\n",
      "The characters at odd position\n",
      "a,u,"
     ]
    }
   ],
   "source": [
    "s = input('Enter some string')\n",
    "i = 0\n",
    "print('The characters at even position')\n",
    "while i < len(s):\n",
    "    print(s[i], end=',')\n",
    "    i = i+2\n",
    "print()\n",
    "print('The characters at odd position')\n",
    "i=1\n",
    "while i<len(s):\n",
    "    print(s[i], end=',')\n",
    "    i=i+2"
   ]
  },
  {
   "cell_type": "code",
   "execution_count": null,
   "metadata": {},
   "outputs": [],
   "source": [
    "#input B4A1D3\n",
    "#out ABD134"
   ]
  },
  {
   "cell_type": "code",
   "execution_count": 4,
   "metadata": {},
   "outputs": [
    {
     "name": "stdout",
     "output_type": "stream",
     "text": [
      "Enter some stringB4A1D3\n",
      "BAD\n",
      "413\n"
     ]
    }
   ],
   "source": [
    "s = input('Enter some string')\n",
    "s1 = s2 = output = ''\n",
    "for x in s:\n",
    "    if x.isalpha():\n",
    "        s1 = s1 + x\n",
    "    else:\n",
    "        s2 = s2 + x\n",
    "print(s1)\n",
    "print(s2)"
   ]
  },
  {
   "cell_type": "code",
   "execution_count": 7,
   "metadata": {},
   "outputs": [
    {
     "name": "stdout",
     "output_type": "stream",
     "text": [
      "Enter some stringrah674ul90\n",
      "ahlru04679\n"
     ]
    }
   ],
   "source": [
    "s = input('Enter some string')\n",
    "s1 = s2 = output = ''\n",
    "for x in s:\n",
    "    if x.isalpha():\n",
    "        s1 = s1 + x\n",
    "    else:\n",
    "        s2 = s2 + x\n",
    "for x in sorted(s1):\n",
    "    output = output+x\n",
    "for x in sorted(s2):\n",
    "    output = output+x\n",
    "print(output)"
   ]
  },
  {
   "cell_type": "code",
   "execution_count": 6,
   "metadata": {},
   "outputs": [
    {
     "name": "stdout",
     "output_type": "stream",
     "text": [
      "Enter some stringB4A1D3\n",
      "['1', '3', '4', 'A', 'B', 'D']\n"
     ]
    }
   ],
   "source": [
    "s = input('Enter some string')\n",
    "s1 = s2 = output = ''\n",
    "for x in s:\n",
    "    if x.isalpha():\n",
    "        s1 = s1 + x\n",
    "    else: \n",
    "        s2 = s2 + x\n",
    "output=s1+s2\n",
    "print(sorted(output))"
   ]
  },
  {
   "cell_type": "code",
   "execution_count": 9,
   "metadata": {},
   "outputs": [
    {
     "name": "stdout",
     "output_type": "stream",
     "text": [
      "Enter some stringrah54632ul$\n",
      "ahlru23456\n"
     ]
    }
   ],
   "source": [
    "s = input('Enter some string')\n",
    "s1 = s2 = output = ''\n",
    "for x in s:\n",
    "    if x.isalpha():\n",
    "        s1 = s1 + x\n",
    "    elif x.isdigit():\n",
    "        s2 = s2 + x\n",
    "for x in sorted(s1):\n",
    "    output = output+x\n",
    "for x in sorted(s2):\n",
    "    output = output+x\n",
    "print(output)"
   ]
  },
  {
   "cell_type": "code",
   "execution_count": 13,
   "metadata": {},
   "outputs": [
    {
     "name": "stdout",
     "output_type": "stream",
     "text": [
      "Enter some stringa0\n",
      "a\n"
     ]
    }
   ],
   "source": [
    "#input a4b3c2\n",
    "#out aaaabbbcc\n",
    "s = input('Enter some string')\n",
    "output = ''\n",
    "for x in s:\n",
    "    if x.isalpha():\n",
    "        output = output+x\n",
    "        previous = x\n",
    "    else:\n",
    "        output = output + previous*(int(x)-1)\n",
    "print(output)"
   ]
  },
  {
   "cell_type": "code",
   "execution_count": null,
   "metadata": {},
   "outputs": [],
   "source": [
    "#input1 = 'Rahul'\n",
    "#input2 = 'Rohit'\n",
    "#output - RRaohhuilt"
   ]
  },
  {
   "cell_type": "code",
   "execution_count": 15,
   "metadata": {},
   "outputs": [
    {
     "name": "stdout",
     "output_type": "stream",
     "text": [
      "Enter the 1st stringRoli\n",
      "Enter the 2nd stringRahul\n"
     ]
    },
    {
     "ename": "IndexError",
     "evalue": "string index out of range",
     "output_type": "error",
     "traceback": [
      "\u001b[1;31m---------------------------------------------------------------------------\u001b[0m",
      "\u001b[1;31mIndexError\u001b[0m                                Traceback (most recent call last)",
      "\u001b[1;32m<ipython-input-15-e9eb6b2614cf>\u001b[0m in \u001b[0;36m<module>\u001b[1;34m\u001b[0m\n\u001b[0;32m      4\u001b[0m \u001b[0mi\u001b[0m\u001b[1;33m=\u001b[0m\u001b[0mj\u001b[0m\u001b[1;33m=\u001b[0m\u001b[1;36m0\u001b[0m\u001b[1;33m\u001b[0m\u001b[1;33m\u001b[0m\u001b[0m\n\u001b[0;32m      5\u001b[0m \u001b[1;32mwhile\u001b[0m \u001b[0mi\u001b[0m\u001b[1;33m<\u001b[0m\u001b[0mlen\u001b[0m\u001b[1;33m(\u001b[0m\u001b[0ms1\u001b[0m\u001b[1;33m)\u001b[0m \u001b[1;32mor\u001b[0m \u001b[0mj\u001b[0m\u001b[1;33m<\u001b[0m\u001b[0mlen\u001b[0m\u001b[1;33m(\u001b[0m\u001b[0ms2\u001b[0m\u001b[1;33m)\u001b[0m\u001b[1;33m:\u001b[0m\u001b[1;33m\u001b[0m\u001b[1;33m\u001b[0m\u001b[0m\n\u001b[1;32m----> 6\u001b[1;33m     \u001b[0moutput\u001b[0m \u001b[1;33m=\u001b[0m \u001b[0moutput\u001b[0m \u001b[1;33m+\u001b[0m \u001b[0ms1\u001b[0m\u001b[1;33m[\u001b[0m\u001b[0mi\u001b[0m\u001b[1;33m]\u001b[0m \u001b[1;33m+\u001b[0m \u001b[0ms2\u001b[0m\u001b[1;33m[\u001b[0m\u001b[0mj\u001b[0m\u001b[1;33m]\u001b[0m\u001b[1;33m\u001b[0m\u001b[1;33m\u001b[0m\u001b[0m\n\u001b[0m\u001b[0;32m      7\u001b[0m     \u001b[0mi\u001b[0m \u001b[1;33m=\u001b[0m \u001b[0mi\u001b[0m\u001b[1;33m+\u001b[0m\u001b[1;36m1\u001b[0m\u001b[1;33m\u001b[0m\u001b[1;33m\u001b[0m\u001b[0m\n\u001b[0;32m      8\u001b[0m     \u001b[0mj\u001b[0m \u001b[1;33m=\u001b[0m \u001b[0mj\u001b[0m\u001b[1;33m+\u001b[0m\u001b[1;36m1\u001b[0m\u001b[1;33m\u001b[0m\u001b[1;33m\u001b[0m\u001b[0m\n",
      "\u001b[1;31mIndexError\u001b[0m: string index out of range"
     ]
    }
   ],
   "source": [
    "s1 = input('Enter the 1st string')\n",
    "s2 = input('Enter the 2nd string')\n",
    "output = ''\n",
    "i=j=0\n",
    "while i<len(s1) or j<len(s2):\n",
    "    output = output + s1[i] + s2[j]\n",
    "    i = i+1\n",
    "    j = j+1\n",
    "print(output)"
   ]
  },
  {
   "cell_type": "code",
   "execution_count": 16,
   "metadata": {},
   "outputs": [
    {
     "name": "stdout",
     "output_type": "stream",
     "text": [
      "Enter 1st StringRoli\n",
      "Enter 2nd stringRahul\n",
      "RRoalhiul\n"
     ]
    }
   ],
   "source": [
    "s1 = input('Enter 1st String')\n",
    "s2 = input('Enter 2nd string')\n",
    "output = ''\n",
    "i=j=0\n",
    "while i<len(s1) or j<len(s2):\n",
    "    if i < len(s1):\n",
    "        output = output + s1[i]\n",
    "        i = i+1\n",
    "    if j < len(s2):\n",
    "        output = output + s2[j]\n",
    "        j = j + 1\n",
    "print(output)"
   ]
  }
 ],
 "metadata": {
  "kernelspec": {
   "display_name": "Python 3",
   "language": "python",
   "name": "python3"
  },
  "language_info": {
   "codemirror_mode": {
    "name": "ipython",
    "version": 3
   },
   "file_extension": ".py",
   "mimetype": "text/x-python",
   "name": "python",
   "nbconvert_exporter": "python",
   "pygments_lexer": "ipython3",
   "version": "3.7.4"
  }
 },
 "nbformat": 4,
 "nbformat_minor": 2
}
